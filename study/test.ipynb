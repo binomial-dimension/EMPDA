{
 "cells": [
  {
   "cell_type": "code",
   "execution_count": 20,
   "metadata": {},
   "outputs": [],
   "source": [
    "from AS import AS_TSP\n",
    "from ACS import ACS_TSP\n",
    "from MMAS import MMAS_TSP\n",
    "import scipy.spatial\n",
    "import numpy as np\n",
    "from matplotlib import pyplot as plt\n"
   ]
  },
  {
   "cell_type": "code",
   "execution_count": 21,
   "metadata": {},
   "outputs": [
    {
     "data": {
      "text/plain": [
       "array([[   0.        , 4726.65314996, 1204.34920185, ..., 1541.72922396,\n",
       "        2378.53442271, 3743.0792137 ],\n",
       "       [4726.65314996,    0.        , 3587.42316991, ..., 5460.74765943,\n",
       "        4389.05547926, 2087.27669464],\n",
       "       [1204.34920185, 3587.42316991,    0.        , ..., 2022.99036083,\n",
       "        1866.16746301, 2559.95566368],\n",
       "       ...,\n",
       "       [1541.72922396, 5460.74765943, 2022.99036083, ...,    0.        ,\n",
       "        1643.50509582, 3927.24547234],\n",
       "       [2378.53442271, 4389.05547926, 1866.16746301, ..., 1643.50509582,\n",
       "           0.        , 2531.02745935],\n",
       "       [3743.0792137 , 2087.27669464, 2559.95566368, ..., 3927.24547234,\n",
       "        2531.02745935,    0.        ]])"
      ]
     },
     "execution_count": 21,
     "metadata": {},
     "output_type": "execute_result"
    }
   ],
   "source": [
    "\n",
    "with open('att48-33523.tsp') as f:\n",
    "    n_dim = int(f.readline())\n",
    "    distance = []\n",
    "    for line in f:\n",
    "        distance.append(list(line.split()[1:]))\n",
    "distance = np.matrix(distance)\n",
    "distance = distance.astype(float)\n",
    "distance_matrix = scipy.spatial.distance.cdist(distance,distance,metric = 'euclidean')\n",
    "distance_matrix"
   ]
  },
  {
   "cell_type": "code",
   "execution_count": 22,
   "metadata": {},
   "outputs": [
    {
     "data": {
      "text/plain": [
       "<matplotlib.collections.PathCollection at 0x1d7d558d730>"
      ]
     },
     "execution_count": 22,
     "metadata": {},
     "output_type": "execute_result"
    },
    {
     "data": {
      "image/png": "[encoded data removed]",
      "text/plain": [
       "<Figure size 432x288 with 1 Axes>"
      ]
     },
     "metadata": {
      "needs_background": "light"
     },
     "output_type": "display_data"
    }
   ],
   "source": [
    "plt.scatter(list(distance[:,0].T),list(distance[:,1].T))"
   ]
  },
  {
   "cell_type": "code",
   "execution_count": 23,
   "metadata": {},
   "outputs": [],
   "source": [
    "def cal_total_distance(routine):\n",
    "    num_points, = routine.shape\n",
    "    return sum([distance_matrix[routine[i % num_points], routine[(i + 1) % num_points]] for i in range(num_points)])"
   ]
  },
  {
   "cell_type": "code",
   "execution_count": null,
   "metadata": {},
   "outputs": [],
   "source": [
    "mmas_tsp = MMAS_TSP(cal_total_distance,n_dim=n_dim,l_ini =36000,rho=0.9,size_pop=50,max_iter=300,distance_matrix=distance_matrix,alpha=1,beta=2,seed=22)\n",
    "best_x,best_y = mmas_tsp.run()\n",
    "best_y "
   ]
  },
  {
   "cell_type": "code",
   "execution_count": 25,
   "metadata": {},
   "outputs": [
    {
     "ename": "KeyboardInterrupt",
     "evalue": "",
     "output_type": "error",
     "traceback": [
      "\u001b[1;31m---------------------------------------------------------------------------\u001b[0m",
      "\u001b[1;31mKeyboardInterrupt\u001b[0m                         Traceback (most recent call last)",
      "\u001b[1;32md:\\Hub\\static-robot-scheduling-1\\study\\test.ipynb Cell 6'\u001b[0m in \u001b[0;36m<cell line: 2>\u001b[1;34m()\u001b[0m\n\u001b[0;32m      <a href='vscode-notebook-cell:/d%3A/Hub/static-robot-scheduling-1/study/test.ipynb#ch0000005?line=0'>1</a>\u001b[0m as_tsp \u001b[39m=\u001b[39m AS_TSP(cal_total_distance,n_dim,l_ini \u001b[39m=\u001b[39m\u001b[39m36000\u001b[39m,size_pop\u001b[39m=\u001b[39m\u001b[39m50\u001b[39m,max_iter\u001b[39m=\u001b[39m\u001b[39m400\u001b[39m,rho\u001b[39m=\u001b[39m\u001b[39m0.1\u001b[39m,distance_matrix\u001b[39m=\u001b[39mdistance_matrix,q\u001b[39m=\u001b[39m\u001b[39m1\u001b[39m,seed\u001b[39m=\u001b[39m\u001b[39m30\u001b[39m,alpha\u001b[39m=\u001b[39m\u001b[39m2\u001b[39m,beta\u001b[39m=\u001b[39m\u001b[39m3\u001b[39m)\n\u001b[1;32m----> <a href='vscode-notebook-cell:/d%3A/Hub/static-robot-scheduling-1/study/test.ipynb#ch0000005?line=1'>2</a>\u001b[0m best_x,best_y \u001b[39m=\u001b[39m as_tsp\u001b[39m.\u001b[39;49mrun()\n\u001b[0;32m      <a href='vscode-notebook-cell:/d%3A/Hub/static-robot-scheduling-1/study/test.ipynb#ch0000005?line=2'>3</a>\u001b[0m best_y\n",
      "File \u001b[1;32md:\\Hub\\static-robot-scheduling-1\\study\\AS.py:49\u001b[0m, in \u001b[0;36mAS_TSP.run\u001b[1;34m(self, max_iter)\u001b[0m\n\u001b[0;32m     <a href='file:///d%3A/Hub/static-robot-scheduling-1/study/AS.py?line=46'>47</a>\u001b[0m         prob \u001b[39m=\u001b[39m prob_matrix[\u001b[39mself\u001b[39m\u001b[39m.\u001b[39mTable[j, k], allow_list]\n\u001b[0;32m     <a href='file:///d%3A/Hub/static-robot-scheduling-1/study/AS.py?line=47'>48</a>\u001b[0m         prob \u001b[39m=\u001b[39m prob \u001b[39m/\u001b[39m prob\u001b[39m.\u001b[39msum()  \u001b[39m# 概率归一化\u001b[39;00m\n\u001b[1;32m---> <a href='file:///d%3A/Hub/static-robot-scheduling-1/study/AS.py?line=48'>49</a>\u001b[0m         next_point \u001b[39m=\u001b[39m np\u001b[39m.\u001b[39;49mrandom\u001b[39m.\u001b[39;49mchoice(allow_list, size\u001b[39m=\u001b[39;49m\u001b[39m1\u001b[39;49m, p\u001b[39m=\u001b[39;49mprob)[\u001b[39m0\u001b[39m]\n\u001b[0;32m     <a href='file:///d%3A/Hub/static-robot-scheduling-1/study/AS.py?line=49'>50</a>\u001b[0m         \u001b[39mself\u001b[39m\u001b[39m.\u001b[39mTable[j, k \u001b[39m+\u001b[39m \u001b[39m1\u001b[39m] \u001b[39m=\u001b[39m next_point\n\u001b[0;32m     <a href='file:///d%3A/Hub/static-robot-scheduling-1/study/AS.py?line=51'>52</a>\u001b[0m \u001b[39m# 计算距离\u001b[39;00m\n",
      "\u001b[1;31mKeyboardInterrupt\u001b[0m: "
     ]
    }
   ],
   "source": [
    "as_tsp = AS_TSP(cal_total_distance,n_dim,l_ini =36000,size_pop=50,max_iter=400,rho=0.1,distance_matrix=distance_matrix,q=1,seed=30,alpha=2,beta=3)\n",
    "best_x,best_y = as_tsp.run()\n",
    "best_y "
   ]
  },
  {
   "cell_type": "code",
   "execution_count": null,
   "metadata": {},
   "outputs": [
    {
     "data": {
      "text/plain": [
       "765.1901088764275"
      ]
     },
     "execution_count": 48,
     "metadata": {},
     "output_type": "execute_result"
    }
   ],
   "source": [
    "acs_tsp = ACS_TSP(cal_total_distance,n_dim=n_dim,l_ini =36000,rho=0.1,size_pop=50,max_iter=1000,distance_matrix=distance_matrix,seed=42)\n",
    "best_x,best_y = acs_tsp.run()\n",
    "best_y "
   ]
  }
 ],
 "metadata": {
  "interpreter": {
   "hash": "680b26491aa58396c3687c25a77e1c9b6c861950efa2f9becec3133f71a8ea32"
  },
  "kernelspec": {
   "display_name": "Python 3.8.13 ('mpda')",
   "language": "python",
   "name": "python3"
  },
  "language_info": {
   "codemirror_mode": {
    "name": "ipython",
    "version": 3
   },
   "file_extension": ".py",
   "mimetype": "text/x-python",
   "name": "python",
   "nbconvert_exporter": "python",
   "pygments_lexer": "ipython3",
   "version": "3.8.13"
  },
  "orig_nbformat": 4,
  "vscode": {
   "interpreter": {
    "hash": "680b26491aa58396c3687c25a77e1c9b6c861950efa2f9becec3133f71a8ea32"
   }
  }
 },
 "nbformat": 4,
 "nbformat_minor": 2
}
